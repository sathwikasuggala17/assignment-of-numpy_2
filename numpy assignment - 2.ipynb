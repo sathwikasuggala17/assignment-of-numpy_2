{
 "cells": [
  {
   "cell_type": "code",
   "execution_count": 1,
   "id": "943bd8ce",
   "metadata": {},
   "outputs": [],
   "source": [
    "import numpy as np"
   ]
  },
  {
   "cell_type": "code",
   "execution_count": 2,
   "id": "9e77fec2",
   "metadata": {},
   "outputs": [],
   "source": [
    "fpath=r\"C:\\Users\\sathw\\Downloads\\tipsf.csv\""
   ]
  },
  {
   "cell_type": "code",
   "execution_count": 3,
   "id": "98c15471",
   "metadata": {},
   "outputs": [
    {
     "data": {
      "text/plain": [
       "array([[  0.  ,  16.99,   1.01, ...,   1.  ,   0.  ,   2.  ],\n",
       "       [  1.  ,  10.34,   1.66, ...,   1.  ,   0.  ,   3.  ],\n",
       "       [  2.  ,  21.01,   3.5 , ...,   1.  ,   0.  ,   3.  ],\n",
       "       ...,\n",
       "       [241.  ,  22.67,   2.  , ...,   0.  ,   0.  ,   2.  ],\n",
       "       [242.  ,  17.82,   1.75, ...,   0.  ,   0.  ,   2.  ],\n",
       "       [243.  ,  18.78,   3.  , ...,   2.  ,   0.  ,   2.  ]])"
      ]
     },
     "execution_count": 3,
     "metadata": {},
     "output_type": "execute_result"
    }
   ],
   "source": [
    "x = np.genfromtxt(fpath,delimiter=',',skip_header=True)\n",
    "x"
   ]
  },
  {
   "cell_type": "markdown",
   "id": "782f037d",
   "metadata": {},
   "source": [
    "#### 1) what is the total bill value?"
   ]
  },
  {
   "cell_type": "code",
   "execution_count": 4,
   "id": "53de325b",
   "metadata": {},
   "outputs": [
    {
     "data": {
      "text/plain": [
       "4827.77"
      ]
     },
     "execution_count": 4,
     "metadata": {},
     "output_type": "execute_result"
    }
   ],
   "source": [
    "total_bill = np.sum(x[:,1]) \n",
    "total_bill"
   ]
  },
  {
   "cell_type": "markdown",
   "id": "30465e0f",
   "metadata": {},
   "source": [
    "#### 2) what is the total tip value?"
   ]
  },
  {
   "cell_type": "code",
   "execution_count": 5,
   "id": "d211d901",
   "metadata": {},
   "outputs": [
    {
     "data": {
      "text/plain": [
       "array([ 1.01,  1.66,  3.5 ,  3.31,  3.61,  4.71,  2.  ,  3.12,  1.96,\n",
       "        3.23,  1.71,  5.  ,  1.57,  3.  ,  3.02,  3.92,  1.67,  3.71,\n",
       "        3.5 ,  3.35,  4.08,  2.75,  2.23,  7.58,  3.18,  2.34,  2.  ,\n",
       "        2.  ,  4.3 ,  3.  ,  1.45,  2.5 ,  3.  ,  2.45,  3.27,  3.6 ,\n",
       "        2.  ,  3.07,  2.31,  5.  ,  2.24,  2.54,  3.06,  1.32,  5.6 ,\n",
       "        3.  ,  5.  ,  6.  ,  2.05,  3.  ,  2.5 ,  2.6 ,  5.2 ,  1.56,\n",
       "        4.34,  3.51,  3.  ,  1.5 ,  1.76,  6.73,  3.21,  2.  ,  1.98,\n",
       "        3.76,  2.64,  3.15,  2.47,  1.  ,  2.01,  2.09,  1.97,  3.  ,\n",
       "        3.14,  5.  ,  2.2 ,  1.25,  3.08,  4.  ,  3.  ,  2.71,  3.  ,\n",
       "        3.4 ,  1.83,  5.  ,  2.03,  5.17,  2.  ,  4.  ,  5.85,  3.  ,\n",
       "        3.  ,  3.5 ,  1.  ,  4.3 ,  3.25,  4.73,  4.  ,  1.5 ,  3.  ,\n",
       "        1.5 ,  2.5 ,  3.  ,  2.5 ,  3.48,  4.08,  1.64,  4.06,  4.29,\n",
       "        3.76,  4.  ,  3.  ,  1.  ,  4.  ,  2.55,  4.  ,  3.5 ,  5.07,\n",
       "        1.5 ,  1.8 ,  2.92,  2.31,  1.68,  2.5 ,  2.  ,  2.52,  4.2 ,\n",
       "        1.48,  2.  ,  2.  ,  2.18,  1.5 ,  2.83,  1.5 ,  2.  ,  3.25,\n",
       "        1.25,  2.  ,  2.  ,  2.  ,  2.75,  3.5 ,  6.7 ,  5.  ,  5.  ,\n",
       "        2.3 ,  1.5 ,  1.36,  1.63,  1.73,  2.  ,  2.5 ,  2.  ,  2.74,\n",
       "        2.  ,  2.  ,  5.14,  5.  ,  3.75,  2.61,  2.  ,  3.5 ,  2.5 ,\n",
       "        2.  ,  2.  ,  3.  ,  3.48,  2.24,  4.5 ,  1.61,  2.  , 10.  ,\n",
       "        3.16,  5.15,  3.18,  4.  ,  3.11,  2.  ,  2.  ,  4.  ,  3.55,\n",
       "        3.68,  5.65,  3.5 ,  6.5 ,  3.  ,  5.  ,  3.5 ,  2.  ,  3.5 ,\n",
       "        4.  ,  1.5 ,  4.19,  2.56,  2.02,  4.  ,  1.44,  2.  ,  5.  ,\n",
       "        2.  ,  2.  ,  4.  ,  2.01,  2.  ,  2.5 ,  4.  ,  3.23,  3.41,\n",
       "        3.  ,  2.03,  2.23,  2.  ,  5.16,  9.  ,  2.5 ,  6.5 ,  1.1 ,\n",
       "        3.  ,  1.5 ,  1.44,  3.09,  2.2 ,  3.48,  1.92,  3.  ,  1.58,\n",
       "        2.5 ,  2.  ,  3.  ,  2.72,  2.88,  2.  ,  3.  ,  3.39,  1.47,\n",
       "        3.  ,  1.25,  1.  ,  1.17,  4.67,  5.92,  2.  ,  2.  ,  1.75,\n",
       "        3.  ])"
      ]
     },
     "execution_count": 5,
     "metadata": {},
     "output_type": "execute_result"
    }
   ],
   "source": [
    "sum_tip_value = x[:,2]\n",
    "sum_tip_value"
   ]
  },
  {
   "cell_type": "code",
   "execution_count": 6,
   "id": "09fa9d2f",
   "metadata": {},
   "outputs": [
    {
     "data": {
      "text/plain": [
       "731.5799999999999"
      ]
     },
     "execution_count": 6,
     "metadata": {},
     "output_type": "execute_result"
    }
   ],
   "source": [
    "np.sum(x[:,2])"
   ]
  },
  {
   "cell_type": "markdown",
   "id": "3d14d2f5",
   "metadata": {},
   "source": [
    "#### 3) count how many sunday,saturday,thursday,friday, are there?"
   ]
  },
  {
   "cell_type": "code",
   "execution_count": 7,
   "id": "aa3351a2",
   "metadata": {},
   "outputs": [
    {
     "data": {
      "text/plain": [
       "array([0., 1., 2., 3.])"
      ]
     },
     "execution_count": 7,
     "metadata": {},
     "output_type": "execute_result"
    }
   ],
   "source": [
    "np.unique(x[:,5])"
   ]
  },
  {
   "cell_type": "code",
   "execution_count": 8,
   "id": "f1e6c3f8",
   "metadata": {},
   "outputs": [
    {
     "data": {
      "text/plain": [
       "(array([0., 1., 2., 3.]), array([87, 76, 62, 19], dtype=int64))"
      ]
     },
     "execution_count": 8,
     "metadata": {},
     "output_type": "execute_result"
    }
   ],
   "source": [
    "np.unique(x[:,5], return_counts= True)"
   ]
  },
  {
   "cell_type": "markdown",
   "id": "a08917d6",
   "metadata": {},
   "source": [
    "#### 4) how many smokers are there?"
   ]
  },
  {
   "cell_type": "code",
   "execution_count": 9,
   "id": "0a93f04f",
   "metadata": {},
   "outputs": [
    {
     "data": {
      "text/plain": [
       "array([0., 1.])"
      ]
     },
     "execution_count": 9,
     "metadata": {},
     "output_type": "execute_result"
    }
   ],
   "source": [
    "np.unique(x[:,4])"
   ]
  },
  {
   "cell_type": "code",
   "execution_count": 10,
   "id": "be7679b6",
   "metadata": {},
   "outputs": [
    {
     "data": {
      "text/plain": [
       "(array([0., 1.]), array([151,  93], dtype=int64))"
      ]
     },
     "execution_count": 10,
     "metadata": {},
     "output_type": "execute_result"
    }
   ],
   "source": [
    "np.unique(x[:,4], return_counts=True) #ns-0 #s-1 "
   ]
  },
  {
   "cell_type": "markdown",
   "id": "9a55b81d",
   "metadata": {},
   "source": [
    "#### 5) what is the avg tip given by the female and male?"
   ]
  },
  {
   "cell_type": "code",
   "execution_count": 11,
   "id": "5bd19268",
   "metadata": {},
   "outputs": [
    {
     "name": "stdout",
     "output_type": "stream",
     "text": [
      "the avg tip given by male : 2.8334482758620685\n",
      "the avg tip given by male : 3.0896178343949043\n"
     ]
    }
   ],
   "source": [
    "gender = (x[:,3])\n",
    "tip = (x[:,2])\n",
    "tip_by_male = np.mean(tip[gender==0])\n",
    "print('the avg tip given by male :', tip_by_male)\n",
    "tip_by_female = np.mean(tip[gender==1])\n",
    "print('the avg tip given by male :', tip_by_female)"
   ]
  },
  {
   "cell_type": "markdown",
   "id": "ba316504",
   "metadata": {},
   "source": [
    "#### 6)how much amount have been spent by female and males?"
   ]
  },
  {
   "cell_type": "code",
   "execution_count": 12,
   "id": "8c3172a4",
   "metadata": {},
   "outputs": [
    {
     "name": "stdout",
     "output_type": "stream",
     "text": [
      "total amount spent by males : 1817.4599999999996\n",
      "total amount spent by females : 3741.89\n"
     ]
    }
   ],
   "source": [
    "total_bill = (x[:,1])\n",
    "tip = (x[:,2])\n",
    "gender = (x[:,3])\n",
    "\n",
    "amount_by_males = np.sum(total_bill[gender==0]) #1570\n",
    "tip_by_males = np.sum(tip[gender==0])\n",
    "total_spent_by_males = amount_by_males + tip_by_males\n",
    "print('total amount spent by males :', total_spent_by_males)\n",
    "\n",
    "amount_by_females = np.sum(total_bill[gender==1]) #1570\n",
    "tip_by_females = np.sum(tip[gender==1])\n",
    "total_spent_by_females = amount_by_females + tip_by_females\n",
    "print('total amount spent by females :', total_spent_by_females)"
   ]
  },
  {
   "cell_type": "markdown",
   "id": "e561e274",
   "metadata": {},
   "source": [
    "#### 7) what is the min and max tip given?"
   ]
  },
  {
   "cell_type": "code",
   "execution_count": 13,
   "id": "aafdbf3b",
   "metadata": {},
   "outputs": [
    {
     "name": "stdout",
     "output_type": "stream",
     "text": [
      "the minimum tip given is : 1.0\n",
      "the maximum tip given is : 10.0\n"
     ]
    }
   ],
   "source": [
    "tip = x[:,2]\n",
    "min_tip = np.min(tip)\n",
    "print('the minimum tip given is :', min_tip)\n",
    "\n",
    "max_tip = np.max(tip)\n",
    "print('the maximum tip given is :', max_tip)"
   ]
  },
  {
   "cell_type": "markdown",
   "id": "0e80f3a5",
   "metadata": {},
   "source": [
    "#### 8) how many male & female are going for dinner and lunch?"
   ]
  },
  {
   "cell_type": "code",
   "execution_count": 14,
   "id": "3ea8dd10",
   "metadata": {},
   "outputs": [
    {
     "name": "stdout",
     "output_type": "stream",
     "text": [
      "No of males went for lunch : 52\n",
      "No of females went for lunch : 124\n",
      "No of males went for Dinner : 35\n",
      "No of female went for Dinner : 33\n"
     ]
    }
   ],
   "source": [
    "gender = x[:,3]\n",
    "time = x[:,6] #lunch\n",
    "\n",
    "male_lunch = np.sum((gender == 0) & (time == 0))\n",
    "female_lunch = np.sum((gender == 1) & (time == 0))\n",
    "print(\"No of males went for lunch :\", male_lunch )\n",
    "print(\"No of females went for lunch :\",female_lunch)\n",
    "\n",
    "male_dinner = np.sum((gender == 0) & (time == 1))\n",
    "female_dinner = np.sum((gender == 1) & (time == 1))\n",
    "print(\"No of males went for Dinner :\", male_dinner )\n",
    "print(\"No of female went for Dinner :\",female_dinner)"
   ]
  },
  {
   "cell_type": "markdown",
   "id": "9c72b35b",
   "metadata": {},
   "source": [
    "#### 9) find out the average size?"
   ]
  },
  {
   "cell_type": "code",
   "execution_count": 15,
   "id": "e3704c84",
   "metadata": {},
   "outputs": [
    {
     "name": "stdout",
     "output_type": "stream",
     "text": [
      "the average size is : 2.569672131147541\n"
     ]
    }
   ],
   "source": [
    "averaze_size = np.mean(x[:,7])\n",
    "print('the average size is :', averaze_size)"
   ]
  },
  {
   "cell_type": "markdown",
   "id": "5426eb50",
   "metadata": {},
   "source": [
    "#### 10) how many female smokers are there and male smokers are there?"
   ]
  },
  {
   "cell_type": "code",
   "execution_count": 16,
   "id": "c467f0ca",
   "metadata": {},
   "outputs": [
    {
     "name": "stdout",
     "output_type": "stream",
     "text": [
      "No of male smokers : 33\n",
      "No of female smokers : 60\n"
     ]
    }
   ],
   "source": [
    "gender = x[:,3]\n",
    "smokers = x[:,4]\n",
    "male_smokers = np.sum((gender==0) & (smokers==1))\n",
    "print('No of male smokers :', male_smokers)\n",
    "\n",
    "female_smokers = np.sum((gender==1) & (smokers==1))\n",
    "print('No of female smokers :',female_smokers)"
   ]
  }
 ],
 "metadata": {
  "kernelspec": {
   "display_name": "Python 3 (ipykernel)",
   "language": "python",
   "name": "python3"
  },
  "language_info": {
   "codemirror_mode": {
    "name": "ipython",
    "version": 3
   },
   "file_extension": ".py",
   "mimetype": "text/x-python",
   "name": "python",
   "nbconvert_exporter": "python",
   "pygments_lexer": "ipython3",
   "version": "3.11.5"
  }
 },
 "nbformat": 4,
 "nbformat_minor": 5
}
